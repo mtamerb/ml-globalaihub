{
 "metadata": {
  "kernelspec": {
   "language": "python",
   "display_name": "Python 3",
   "name": "python3"
  },
  "language_info": {
   "name": "python",
   "version": "3.10.12",
   "mimetype": "text/x-python",
   "codemirror_mode": {
    "name": "ipython",
    "version": 3
   },
   "pygments_lexer": "ipython3",
   "nbconvert_exporter": "python",
   "file_extension": ".py"
  }
 },
 "nbformat_minor": 4,
 "nbformat": 4,
 "cells": [
  {
   "cell_type": "code",
   "source": [
    "import numpy as np\n",
    "import pandas as pd\n",
    "import matplotlib.pyplot as plt\n",
    "\n",
    "from sklearn.cluster import KMeans\n",
    "from sklearn.metrics import silhouette_score"
   ],
   "metadata": {
    "_uuid": "8f2839f25d086af736a60e9eeb907d3b93b6e0e5",
    "_cell_guid": "b1076dfc-b9ad-4769-8c92-a6c4dae69d19",
    "execution": {
     "iopub.status.busy": "2023-08-05T18:42:13.057767Z",
     "iopub.execute_input": "2023-08-05T18:42:13.058174Z",
     "iopub.status.idle": "2023-08-05T18:42:13.063751Z",
     "shell.execute_reply.started": "2023-08-05T18:42:13.058143Z",
     "shell.execute_reply": "2023-08-05T18:42:13.062652Z"
    },
    "trusted": true
   },
   "execution_count": 40,
   "outputs": []
  },
  {
   "cell_type": "code",
   "source": [
    "data_path = \"/kaggle/input/live-csv/Live (1).csv\""
   ],
   "metadata": {
    "execution": {
     "iopub.status.busy": "2023-08-05T18:42:13.086779Z",
     "iopub.execute_input": "2023-08-05T18:42:13.087422Z",
     "iopub.status.idle": "2023-08-05T18:42:13.092021Z",
     "shell.execute_reply.started": "2023-08-05T18:42:13.087382Z",
     "shell.execute_reply": "2023-08-05T18:42:13.091127Z"
    },
    "trusted": true
   },
   "execution_count": 41,
   "outputs": []
  },
  {
   "cell_type": "code",
   "source": [
    "data = pd.read_csv(data_path)"
   ],
   "metadata": {
    "execution": {
     "iopub.status.busy": "2023-08-05T18:42:13.118796Z",
     "iopub.execute_input": "2023-08-05T18:42:13.119419Z",
     "iopub.status.idle": "2023-08-05T18:42:13.149923Z",
     "shell.execute_reply.started": "2023-08-05T18:42:13.119384Z",
     "shell.execute_reply": "2023-08-05T18:42:13.148978Z"
    },
    "trusted": true
   },
   "execution_count": 42,
   "outputs": []
  },
  {
   "cell_type": "code",
   "source": [
    "data.dtypes"
   ],
   "metadata": {
    "execution": {
     "iopub.status.busy": "2023-08-05T18:42:13.151583Z",
     "iopub.execute_input": "2023-08-05T18:42:13.151915Z",
     "iopub.status.idle": "2023-08-05T18:42:13.160211Z",
     "shell.execute_reply.started": "2023-08-05T18:42:13.151883Z",
     "shell.execute_reply": "2023-08-05T18:42:13.159255Z"
    },
    "trusted": true
   },
   "execution_count": 43,
   "outputs": [
    {
     "execution_count": 43,
     "output_type": "execute_result",
     "data": {
      "text/plain": "num_reactions         float64\nnum_comments          float64\nnum_shares            float64\nnum_likes             float64\nnum_loves             float64\nnum_wows              float64\nnum_hahas             float64\nnum_sads              float64\nnum_angrys            float64\nstatus_type_link      float64\nstatus_type_photo     float64\nstatus_type_status    float64\nstatus_type_video     float64\ndtype: object"
     },
     "metadata": {}
    }
   ]
  },
  {
   "cell_type": "code",
   "source": [
    "data.describe().T"
   ],
   "metadata": {
    "execution": {
     "iopub.status.busy": "2023-08-05T18:42:13.174533Z",
     "iopub.execute_input": "2023-08-05T18:42:13.175103Z",
     "iopub.status.idle": "2023-08-05T18:42:13.227248Z",
     "shell.execute_reply.started": "2023-08-05T18:42:13.175053Z",
     "shell.execute_reply": "2023-08-05T18:42:13.226336Z"
    },
    "trusted": true
   },
   "execution_count": 44,
   "outputs": [
    {
     "execution_count": 44,
     "output_type": "execute_result",
     "data": {
      "text/plain": "                     count      mean       std  min       25%       50%  \\\nnum_reactions       7050.0  0.048857  0.098222  0.0  0.003609  0.012633   \nnum_comments        7050.0  0.010689  0.042384  0.0  0.000000  0.000191   \nnum_shares          7050.0  0.011689  0.038435  0.0  0.000000  0.000000   \nnum_likes           7050.0  0.045657  0.095429  0.0  0.003609  0.012314   \nnum_loves           7050.0  0.019374  0.060842  0.0  0.000000  0.000000   \nnum_wows            7050.0  0.004638  0.031366  0.0  0.000000  0.000000   \nnum_hahas           7050.0  0.004436  0.025205  0.0  0.000000  0.000000   \nnum_sads            7050.0  0.004778  0.031317  0.0  0.000000  0.000000   \nnum_angrys          7050.0  0.003651  0.023446  0.0  0.000000  0.000000   \nstatus_type_link    7050.0  0.008936  0.094115  0.0  0.000000  0.000000   \nstatus_type_photo   7050.0  0.608227  0.488181  0.0  0.000000  1.000000   \nstatus_type_status  7050.0  0.051773  0.221584  0.0  0.000000  0.000000   \nstatus_type_video   7050.0  0.331064  0.470629  0.0  0.000000  0.000000   \n\n                         75%  max  \nnum_reactions       0.046497  1.0  \nnum_comments        0.001096  1.0  \nnum_shares          0.001168  1.0  \nnum_likes           0.039225  1.0  \nnum_loves           0.004566  1.0  \nnum_wows            0.000000  1.0  \nnum_hahas           0.000000  1.0  \nnum_sads            0.000000  1.0  \nnum_angrys          0.000000  1.0  \nstatus_type_link    0.000000  1.0  \nstatus_type_photo   1.000000  1.0  \nstatus_type_status  0.000000  1.0  \nstatus_type_video   1.000000  1.0  ",
      "text/html": "<div>\n<style scoped>\n    .dataframe tbody tr th:only-of-type {\n        vertical-align: middle;\n    }\n\n    .dataframe tbody tr th {\n        vertical-align: top;\n    }\n\n    .dataframe thead th {\n        text-align: right;\n    }\n</style>\n<table border=\"1\" class=\"dataframe\">\n  <thead>\n    <tr style=\"text-align: right;\">\n      <th></th>\n      <th>count</th>\n      <th>mean</th>\n      <th>std</th>\n      <th>min</th>\n      <th>25%</th>\n      <th>50%</th>\n      <th>75%</th>\n      <th>max</th>\n    </tr>\n  </thead>\n  <tbody>\n    <tr>\n      <th>num_reactions</th>\n      <td>7050.0</td>\n      <td>0.048857</td>\n      <td>0.098222</td>\n      <td>0.0</td>\n      <td>0.003609</td>\n      <td>0.012633</td>\n      <td>0.046497</td>\n      <td>1.0</td>\n    </tr>\n    <tr>\n      <th>num_comments</th>\n      <td>7050.0</td>\n      <td>0.010689</td>\n      <td>0.042384</td>\n      <td>0.0</td>\n      <td>0.000000</td>\n      <td>0.000191</td>\n      <td>0.001096</td>\n      <td>1.0</td>\n    </tr>\n    <tr>\n      <th>num_shares</th>\n      <td>7050.0</td>\n      <td>0.011689</td>\n      <td>0.038435</td>\n      <td>0.0</td>\n      <td>0.000000</td>\n      <td>0.000000</td>\n      <td>0.001168</td>\n      <td>1.0</td>\n    </tr>\n    <tr>\n      <th>num_likes</th>\n      <td>7050.0</td>\n      <td>0.045657</td>\n      <td>0.095429</td>\n      <td>0.0</td>\n      <td>0.003609</td>\n      <td>0.012314</td>\n      <td>0.039225</td>\n      <td>1.0</td>\n    </tr>\n    <tr>\n      <th>num_loves</th>\n      <td>7050.0</td>\n      <td>0.019374</td>\n      <td>0.060842</td>\n      <td>0.0</td>\n      <td>0.000000</td>\n      <td>0.000000</td>\n      <td>0.004566</td>\n      <td>1.0</td>\n    </tr>\n    <tr>\n      <th>num_wows</th>\n      <td>7050.0</td>\n      <td>0.004638</td>\n      <td>0.031366</td>\n      <td>0.0</td>\n      <td>0.000000</td>\n      <td>0.000000</td>\n      <td>0.000000</td>\n      <td>1.0</td>\n    </tr>\n    <tr>\n      <th>num_hahas</th>\n      <td>7050.0</td>\n      <td>0.004436</td>\n      <td>0.025205</td>\n      <td>0.0</td>\n      <td>0.000000</td>\n      <td>0.000000</td>\n      <td>0.000000</td>\n      <td>1.0</td>\n    </tr>\n    <tr>\n      <th>num_sads</th>\n      <td>7050.0</td>\n      <td>0.004778</td>\n      <td>0.031317</td>\n      <td>0.0</td>\n      <td>0.000000</td>\n      <td>0.000000</td>\n      <td>0.000000</td>\n      <td>1.0</td>\n    </tr>\n    <tr>\n      <th>num_angrys</th>\n      <td>7050.0</td>\n      <td>0.003651</td>\n      <td>0.023446</td>\n      <td>0.0</td>\n      <td>0.000000</td>\n      <td>0.000000</td>\n      <td>0.000000</td>\n      <td>1.0</td>\n    </tr>\n    <tr>\n      <th>status_type_link</th>\n      <td>7050.0</td>\n      <td>0.008936</td>\n      <td>0.094115</td>\n      <td>0.0</td>\n      <td>0.000000</td>\n      <td>0.000000</td>\n      <td>0.000000</td>\n      <td>1.0</td>\n    </tr>\n    <tr>\n      <th>status_type_photo</th>\n      <td>7050.0</td>\n      <td>0.608227</td>\n      <td>0.488181</td>\n      <td>0.0</td>\n      <td>0.000000</td>\n      <td>1.000000</td>\n      <td>1.000000</td>\n      <td>1.0</td>\n    </tr>\n    <tr>\n      <th>status_type_status</th>\n      <td>7050.0</td>\n      <td>0.051773</td>\n      <td>0.221584</td>\n      <td>0.0</td>\n      <td>0.000000</td>\n      <td>0.000000</td>\n      <td>0.000000</td>\n      <td>1.0</td>\n    </tr>\n    <tr>\n      <th>status_type_video</th>\n      <td>7050.0</td>\n      <td>0.331064</td>\n      <td>0.470629</td>\n      <td>0.0</td>\n      <td>0.000000</td>\n      <td>0.000000</td>\n      <td>1.000000</td>\n      <td>1.0</td>\n    </tr>\n  </tbody>\n</table>\n</div>"
     },
     "metadata": {}
    }
   ]
  },
  {
   "cell_type": "code",
   "source": [
    "model = KMeans(n_clusters=3)"
   ],
   "metadata": {
    "execution": {
     "iopub.status.busy": "2023-08-05T18:42:13.229239Z",
     "iopub.execute_input": "2023-08-05T18:42:13.230165Z",
     "iopub.status.idle": "2023-08-05T18:42:13.234475Z",
     "shell.execute_reply.started": "2023-08-05T18:42:13.230129Z",
     "shell.execute_reply": "2023-08-05T18:42:13.233513Z"
    },
    "trusted": true
   },
   "execution_count": 45,
   "outputs": []
  },
  {
   "cell_type": "code",
   "source": [
    "model.fit(data)"
   ],
   "metadata": {
    "execution": {
     "iopub.status.busy": "2023-08-05T18:42:13.259868Z",
     "iopub.execute_input": "2023-08-05T18:42:13.260256Z",
     "iopub.status.idle": "2023-08-05T18:42:13.352140Z",
     "shell.execute_reply.started": "2023-08-05T18:42:13.260215Z",
     "shell.execute_reply": "2023-08-05T18:42:13.351181Z"
    },
    "trusted": true
   },
   "execution_count": 46,
   "outputs": [
    {
     "name": "stderr",
     "text": "/opt/conda/lib/python3.10/site-packages/sklearn/cluster/_kmeans.py:870: FutureWarning: The default value of `n_init` will change from 10 to 'auto' in 1.4. Set the value of `n_init` explicitly to suppress the warning\n  warnings.warn(\n",
     "output_type": "stream"
    },
    {
     "execution_count": 46,
     "output_type": "execute_result",
     "data": {
      "text/plain": "KMeans(n_clusters=3)",
      "text/html": "<style>#sk-container-id-3 {color: black;background-color: white;}#sk-container-id-3 pre{padding: 0;}#sk-container-id-3 div.sk-toggleable {background-color: white;}#sk-container-id-3 label.sk-toggleable__label {cursor: pointer;display: block;width: 100%;margin-bottom: 0;padding: 0.3em;box-sizing: border-box;text-align: center;}#sk-container-id-3 label.sk-toggleable__label-arrow:before {content: \"▸\";float: left;margin-right: 0.25em;color: #696969;}#sk-container-id-3 label.sk-toggleable__label-arrow:hover:before {color: black;}#sk-container-id-3 div.sk-estimator:hover label.sk-toggleable__label-arrow:before {color: black;}#sk-container-id-3 div.sk-toggleable__content {max-height: 0;max-width: 0;overflow: hidden;text-align: left;background-color: #f0f8ff;}#sk-container-id-3 div.sk-toggleable__content pre {margin: 0.2em;color: black;border-radius: 0.25em;background-color: #f0f8ff;}#sk-container-id-3 input.sk-toggleable__control:checked~div.sk-toggleable__content {max-height: 200px;max-width: 100%;overflow: auto;}#sk-container-id-3 input.sk-toggleable__control:checked~label.sk-toggleable__label-arrow:before {content: \"▾\";}#sk-container-id-3 div.sk-estimator input.sk-toggleable__control:checked~label.sk-toggleable__label {background-color: #d4ebff;}#sk-container-id-3 div.sk-label input.sk-toggleable__control:checked~label.sk-toggleable__label {background-color: #d4ebff;}#sk-container-id-3 input.sk-hidden--visually {border: 0;clip: rect(1px 1px 1px 1px);clip: rect(1px, 1px, 1px, 1px);height: 1px;margin: -1px;overflow: hidden;padding: 0;position: absolute;width: 1px;}#sk-container-id-3 div.sk-estimator {font-family: monospace;background-color: #f0f8ff;border: 1px dotted black;border-radius: 0.25em;box-sizing: border-box;margin-bottom: 0.5em;}#sk-container-id-3 div.sk-estimator:hover {background-color: #d4ebff;}#sk-container-id-3 div.sk-parallel-item::after {content: \"\";width: 100%;border-bottom: 1px solid gray;flex-grow: 1;}#sk-container-id-3 div.sk-label:hover label.sk-toggleable__label {background-color: #d4ebff;}#sk-container-id-3 div.sk-serial::before {content: \"\";position: absolute;border-left: 1px solid gray;box-sizing: border-box;top: 0;bottom: 0;left: 50%;z-index: 0;}#sk-container-id-3 div.sk-serial {display: flex;flex-direction: column;align-items: center;background-color: white;padding-right: 0.2em;padding-left: 0.2em;position: relative;}#sk-container-id-3 div.sk-item {position: relative;z-index: 1;}#sk-container-id-3 div.sk-parallel {display: flex;align-items: stretch;justify-content: center;background-color: white;position: relative;}#sk-container-id-3 div.sk-item::before, #sk-container-id-3 div.sk-parallel-item::before {content: \"\";position: absolute;border-left: 1px solid gray;box-sizing: border-box;top: 0;bottom: 0;left: 50%;z-index: -1;}#sk-container-id-3 div.sk-parallel-item {display: flex;flex-direction: column;z-index: 1;position: relative;background-color: white;}#sk-container-id-3 div.sk-parallel-item:first-child::after {align-self: flex-end;width: 50%;}#sk-container-id-3 div.sk-parallel-item:last-child::after {align-self: flex-start;width: 50%;}#sk-container-id-3 div.sk-parallel-item:only-child::after {width: 0;}#sk-container-id-3 div.sk-dashed-wrapped {border: 1px dashed gray;margin: 0 0.4em 0.5em 0.4em;box-sizing: border-box;padding-bottom: 0.4em;background-color: white;}#sk-container-id-3 div.sk-label label {font-family: monospace;font-weight: bold;display: inline-block;line-height: 1.2em;}#sk-container-id-3 div.sk-label-container {text-align: center;}#sk-container-id-3 div.sk-container {/* jupyter's `normalize.less` sets `[hidden] { display: none; }` but bootstrap.min.css set `[hidden] { display: none !important; }` so we also need the `!important` here to be able to override the default hidden behavior on the sphinx rendered scikit-learn.org. See: https://github.com/scikit-learn/scikit-learn/issues/21755 */display: inline-block !important;position: relative;}#sk-container-id-3 div.sk-text-repr-fallback {display: none;}</style><div id=\"sk-container-id-3\" class=\"sk-top-container\"><div class=\"sk-text-repr-fallback\"><pre>KMeans(n_clusters=3)</pre><b>In a Jupyter environment, please rerun this cell to show the HTML representation or trust the notebook. <br />On GitHub, the HTML representation is unable to render, please try loading this page with nbviewer.org.</b></div><div class=\"sk-container\" hidden><div class=\"sk-item\"><div class=\"sk-estimator sk-toggleable\"><input class=\"sk-toggleable__control sk-hidden--visually\" id=\"sk-estimator-id-3\" type=\"checkbox\" checked><label for=\"sk-estimator-id-3\" class=\"sk-toggleable__label sk-toggleable__label-arrow\">KMeans</label><div class=\"sk-toggleable__content\"><pre>KMeans(n_clusters=3)</pre></div></div></div></div></div>"
     },
     "metadata": {}
    }
   ]
  },
  {
   "cell_type": "code",
   "source": [
    "labels = model.predict(data)"
   ],
   "metadata": {
    "execution": {
     "iopub.status.busy": "2023-08-05T18:42:13.354189Z",
     "iopub.execute_input": "2023-08-05T18:42:13.355240Z",
     "iopub.status.idle": "2023-08-05T18:42:13.366681Z",
     "shell.execute_reply.started": "2023-08-05T18:42:13.355206Z",
     "shell.execute_reply": "2023-08-05T18:42:13.365637Z"
    },
    "trusted": true
   },
   "execution_count": 47,
   "outputs": []
  },
  {
   "cell_type": "code",
   "source": [
    "np.unique(labels, return_counts=True)"
   ],
   "metadata": {
    "execution": {
     "iopub.status.busy": "2023-08-05T18:42:13.368477Z",
     "iopub.execute_input": "2023-08-05T18:42:13.370015Z",
     "iopub.status.idle": "2023-08-05T18:42:13.379905Z",
     "shell.execute_reply.started": "2023-08-05T18:42:13.369987Z",
     "shell.execute_reply": "2023-08-05T18:42:13.378996Z"
    },
    "trusted": true
   },
   "execution_count": 48,
   "outputs": [
    {
     "execution_count": 48,
     "output_type": "execute_result",
     "data": {
      "text/plain": "(array([0, 1, 2], dtype=int32), array([4288, 2334,  428]))"
     },
     "metadata": {}
    }
   ]
  },
  {
   "cell_type": "code",
   "source": [
    "silhouettes = []\n",
    "ks = list(range(2,12))"
   ],
   "metadata": {
    "execution": {
     "iopub.status.busy": "2023-08-05T18:42:13.382786Z",
     "iopub.execute_input": "2023-08-05T18:42:13.385465Z",
     "iopub.status.idle": "2023-08-05T18:42:13.391136Z",
     "shell.execute_reply.started": "2023-08-05T18:42:13.385437Z",
     "shell.execute_reply": "2023-08-05T18:42:13.390369Z"
    },
    "trusted": true
   },
   "execution_count": 49,
   "outputs": []
  },
  {
   "cell_type": "code",
   "source": [
    "for n_cluster in ks:\n",
    "    kmeans = KMeans(n_clusters=n_cluster, n_init=10).fit(data)\n",
    "    label = kmeans.labels_\n",
    "    sil_coeff = silhouette_score(data, label, metric=\"euclidean\")\n",
    "    print(\"For n_clusters={}, The Silhouette Coefficient is {}\".format(n_cluster, sil_coeff))\n",
    "    silhouettes.append(sil_coeff)"
   ],
   "metadata": {
    "execution": {
     "iopub.status.busy": "2023-08-05T18:42:13.392575Z",
     "iopub.execute_input": "2023-08-05T18:42:13.394173Z",
     "iopub.status.idle": "2023-08-05T18:42:23.785504Z",
     "shell.execute_reply.started": "2023-08-05T18:42:13.394143Z",
     "shell.execute_reply": "2023-08-05T18:42:23.783561Z"
    },
    "trusted": true
   },
   "execution_count": 50,
   "outputs": [
    {
     "name": "stdout",
     "text": "For n_clusters=2, The Silhouette Coefficient is 0.8188237721696822\nFor n_clusters=3, The Silhouette Coefficient is 0.8972493682244883\nFor n_clusters=4, The Silhouette Coefficient is 0.9106664962327088\nFor n_clusters=5, The Silhouette Coefficient is 0.8866768371183754\nFor n_clusters=6, The Silhouette Coefficient is 0.8430118288915796\nFor n_clusters=7, The Silhouette Coefficient is 0.8419421782294257\nFor n_clusters=8, The Silhouette Coefficient is 0.7658841617058691\nFor n_clusters=9, The Silhouette Coefficient is 0.7601867631720509\nFor n_clusters=10, The Silhouette Coefficient is 0.7183294791821582\nFor n_clusters=11, The Silhouette Coefficient is 0.7169827578174617\n",
     "output_type": "stream"
    }
   ]
  },
  {
   "cell_type": "code",
   "source": [
    "plt.figure(figsize=(10, 4))\n",
    "plt.plot(ks, silhouettes, marker='o', c=\"k\")\n",
    "plt.xlabel(\"Number of Clusters\")\n",
    "plt.ylabel(\"Silhouette Coefficient\")\n",
    "plt.title(\"Silhouette Coefficient for Different Cluster Numbers\")\n",
    "plt.grid(True)"
   ],
   "metadata": {
    "execution": {
     "iopub.status.busy": "2023-08-05T18:42:23.786787Z",
     "iopub.execute_input": "2023-08-05T18:42:23.787156Z",
     "iopub.status.idle": "2023-08-05T18:42:24.116878Z",
     "shell.execute_reply.started": "2023-08-05T18:42:23.787120Z",
     "shell.execute_reply": "2023-08-05T18:42:24.115973Z"
    },
    "trusted": true
   },
   "execution_count": 51,
   "outputs": [
    {
     "output_type": "display_data",
     "data": {
      "text/plain": "<Figure size 1000x400 with 1 Axes>",
      "image/png": "[encoded data removed]"
     },
     "metadata": {}
    }
   ]
  },
  {
   "cell_type": "code",
   "source": [
    "model = KMeans(n_clusters=4, n_init=10)"
   ],
   "metadata": {
    "execution": {
     "iopub.status.busy": "2023-08-05T18:42:24.118408Z",
     "iopub.execute_input": "2023-08-05T18:42:24.119459Z",
     "iopub.status.idle": "2023-08-05T18:42:24.124348Z",
     "shell.execute_reply.started": "2023-08-05T18:42:24.119407Z",
     "shell.execute_reply": "2023-08-05T18:42:24.123111Z"
    },
    "trusted": true
   },
   "execution_count": 52,
   "outputs": []
  },
  {
   "cell_type": "code",
   "source": [
    "model.fit(data)"
   ],
   "metadata": {
    "execution": {
     "iopub.status.busy": "2023-08-05T18:42:24.125792Z",
     "iopub.execute_input": "2023-08-05T18:42:24.126433Z",
     "iopub.status.idle": "2023-08-05T18:42:24.317981Z",
     "shell.execute_reply.started": "2023-08-05T18:42:24.126399Z",
     "shell.execute_reply": "2023-08-05T18:42:24.316846Z"
    },
    "trusted": true
   },
   "execution_count": 53,
   "outputs": [
    {
     "execution_count": 53,
     "output_type": "execute_result",
     "data": {
      "text/plain": "KMeans(n_clusters=4, n_init=10)",
      "text/html": "<style>#sk-container-id-4 {color: black;background-color: white;}#sk-container-id-4 pre{padding: 0;}#sk-container-id-4 div.sk-toggleable {background-color: white;}#sk-container-id-4 label.sk-toggleable__label {cursor: pointer;display: block;width: 100%;margin-bottom: 0;padding: 0.3em;box-sizing: border-box;text-align: center;}#sk-container-id-4 label.sk-toggleable__label-arrow:before {content: \"▸\";float: left;margin-right: 0.25em;color: #696969;}#sk-container-id-4 label.sk-toggleable__label-arrow:hover:before {color: black;}#sk-container-id-4 div.sk-estimator:hover label.sk-toggleable__label-arrow:before {color: black;}#sk-container-id-4 div.sk-toggleable__content {max-height: 0;max-width: 0;overflow: hidden;text-align: left;background-color: #f0f8ff;}#sk-container-id-4 div.sk-toggleable__content pre {margin: 0.2em;color: black;border-radius: 0.25em;background-color: #f0f8ff;}#sk-container-id-4 input.sk-toggleable__control:checked~div.sk-toggleable__content {max-height: 200px;max-width: 100%;overflow: auto;}#sk-container-id-4 input.sk-toggleable__control:checked~label.sk-toggleable__label-arrow:before {content: \"▾\";}#sk-container-id-4 div.sk-estimator input.sk-toggleable__control:checked~label.sk-toggleable__label {background-color: #d4ebff;}#sk-container-id-4 div.sk-label input.sk-toggleable__control:checked~label.sk-toggleable__label {background-color: #d4ebff;}#sk-container-id-4 input.sk-hidden--visually {border: 0;clip: rect(1px 1px 1px 1px);clip: rect(1px, 1px, 1px, 1px);height: 1px;margin: -1px;overflow: hidden;padding: 0;position: absolute;width: 1px;}#sk-container-id-4 div.sk-estimator {font-family: monospace;background-color: #f0f8ff;border: 1px dotted black;border-radius: 0.25em;box-sizing: border-box;margin-bottom: 0.5em;}#sk-container-id-4 div.sk-estimator:hover {background-color: #d4ebff;}#sk-container-id-4 div.sk-parallel-item::after {content: \"\";width: 100%;border-bottom: 1px solid gray;flex-grow: 1;}#sk-container-id-4 div.sk-label:hover label.sk-toggleable__label {background-color: #d4ebff;}#sk-container-id-4 div.sk-serial::before {content: \"\";position: absolute;border-left: 1px solid gray;box-sizing: border-box;top: 0;bottom: 0;left: 50%;z-index: 0;}#sk-container-id-4 div.sk-serial {display: flex;flex-direction: column;align-items: center;background-color: white;padding-right: 0.2em;padding-left: 0.2em;position: relative;}#sk-container-id-4 div.sk-item {position: relative;z-index: 1;}#sk-container-id-4 div.sk-parallel {display: flex;align-items: stretch;justify-content: center;background-color: white;position: relative;}#sk-container-id-4 div.sk-item::before, #sk-container-id-4 div.sk-parallel-item::before {content: \"\";position: absolute;border-left: 1px solid gray;box-sizing: border-box;top: 0;bottom: 0;left: 50%;z-index: -1;}#sk-container-id-4 div.sk-parallel-item {display: flex;flex-direction: column;z-index: 1;position: relative;background-color: white;}#sk-container-id-4 div.sk-parallel-item:first-child::after {align-self: flex-end;width: 50%;}#sk-container-id-4 div.sk-parallel-item:last-child::after {align-self: flex-start;width: 50%;}#sk-container-id-4 div.sk-parallel-item:only-child::after {width: 0;}#sk-container-id-4 div.sk-dashed-wrapped {border: 1px dashed gray;margin: 0 0.4em 0.5em 0.4em;box-sizing: border-box;padding-bottom: 0.4em;background-color: white;}#sk-container-id-4 div.sk-label label {font-family: monospace;font-weight: bold;display: inline-block;line-height: 1.2em;}#sk-container-id-4 div.sk-label-container {text-align: center;}#sk-container-id-4 div.sk-container {/* jupyter's `normalize.less` sets `[hidden] { display: none; }` but bootstrap.min.css set `[hidden] { display: none !important; }` so we also need the `!important` here to be able to override the default hidden behavior on the sphinx rendered scikit-learn.org. See: https://github.com/scikit-learn/scikit-learn/issues/21755 */display: inline-block !important;position: relative;}#sk-container-id-4 div.sk-text-repr-fallback {display: none;}</style><div id=\"sk-container-id-4\" class=\"sk-top-container\"><div class=\"sk-text-repr-fallback\"><pre>KMeans(n_clusters=4, n_init=10)</pre><b>In a Jupyter environment, please rerun this cell to show the HTML representation or trust the notebook. <br />On GitHub, the HTML representation is unable to render, please try loading this page with nbviewer.org.</b></div><div class=\"sk-container\" hidden><div class=\"sk-item\"><div class=\"sk-estimator sk-toggleable\"><input class=\"sk-toggleable__control sk-hidden--visually\" id=\"sk-estimator-id-4\" type=\"checkbox\" checked><label for=\"sk-estimator-id-4\" class=\"sk-toggleable__label sk-toggleable__label-arrow\">KMeans</label><div class=\"sk-toggleable__content\"><pre>KMeans(n_clusters=4, n_init=10)</pre></div></div></div></div></div>"
     },
     "metadata": {}
    }
   ]
  },
  {
   "cell_type": "code",
   "source": [
    "labels = model.predict(data)"
   ],
   "metadata": {
    "execution": {
     "iopub.status.busy": "2023-08-05T18:42:24.322532Z",
     "iopub.execute_input": "2023-08-05T18:42:24.323002Z",
     "iopub.status.idle": "2023-08-05T18:42:24.334387Z",
     "shell.execute_reply.started": "2023-08-05T18:42:24.322946Z",
     "shell.execute_reply": "2023-08-05T18:42:24.333091Z"
    },
    "trusted": true
   },
   "execution_count": 54,
   "outputs": []
  },
  {
   "cell_type": "code",
   "source": [
    "np.unique(labels, return_counts=True)"
   ],
   "metadata": {
    "execution": {
     "iopub.status.busy": "2023-08-05T18:42:24.338825Z",
     "iopub.execute_input": "2023-08-05T18:42:24.339827Z",
     "iopub.status.idle": "2023-08-05T18:42:24.351198Z",
     "shell.execute_reply.started": "2023-08-05T18:42:24.339793Z",
     "shell.execute_reply": "2023-08-05T18:42:24.349922Z"
    },
    "trusted": true
   },
   "execution_count": 55,
   "outputs": [
    {
     "execution_count": 55,
     "output_type": "execute_result",
     "data": {
      "text/plain": "(array([0, 1, 2, 3], dtype=int32), array([2334, 4288,  365,   63]))"
     },
     "metadata": {}
    }
   ]
  },
  {
   "cell_type": "code",
   "source": [
    "data[\"labels\"] = labels\n",
    "data[\"labels\"].value_counts()"
   ],
   "metadata": {
    "execution": {
     "iopub.status.busy": "2023-08-05T18:44:44.315483Z",
     "iopub.execute_input": "2023-08-05T18:44:44.315843Z",
     "iopub.status.idle": "2023-08-05T18:44:44.325722Z",
     "shell.execute_reply.started": "2023-08-05T18:44:44.315815Z",
     "shell.execute_reply": "2023-08-05T18:44:44.324622Z"
    },
    "trusted": true
   },
   "execution_count": 68,
   "outputs": [
    {
     "execution_count": 68,
     "output_type": "execute_result",
     "data": {
      "text/plain": "1    4288\n0    2334\n2     365\n3      63\nName: labels, dtype: int64"
     },
     "metadata": {}
    }
   ]
  },
  {
   "cell_type": "code",
   "source": [
    "group_zero = data[data[\"labels\"] == 0][\"num_comments\"].mean()\n",
    "group_zero"
   ],
   "metadata": {
    "execution": {
     "iopub.status.busy": "2023-08-05T18:42:24.368577Z",
     "iopub.execute_input": "2023-08-05T18:42:24.368978Z",
     "iopub.status.idle": "2023-08-05T18:42:24.380525Z",
     "shell.execute_reply.started": "2023-08-05T18:42:24.368943Z",
     "shell.execute_reply": "2023-08-05T18:42:24.379023Z"
    },
    "trusted": true
   },
   "execution_count": 57,
   "outputs": [
    {
     "execution_count": 57,
     "output_type": "execute_result",
     "data": {
      "text/plain": "0.030608773182480054"
     },
     "metadata": {}
    }
   ]
  },
  {
   "cell_type": "code",
   "source": [
    "group_one = data[data[\"labels\"] == 1][\"num_comments\"].mean()\n",
    "group_one"
   ],
   "metadata": {
    "execution": {
     "iopub.status.busy": "2023-08-05T18:42:24.381920Z",
     "iopub.execute_input": "2023-08-05T18:42:24.382313Z",
     "iopub.status.idle": "2023-08-05T18:42:24.392308Z",
     "shell.execute_reply.started": "2023-08-05T18:42:24.382286Z",
     "shell.execute_reply": "2023-08-05T18:42:24.391414Z"
    },
    "trusted": true
   },
   "execution_count": 58,
   "outputs": [
    {
     "execution_count": 58,
     "output_type": "execute_result",
     "data": {
      "text/plain": "0.0007619566531325948"
     },
     "metadata": {}
    }
   ]
  },
  {
   "cell_type": "code",
   "source": [
    "group_two = data[data[\"labels\"] == 2][\"num_comments\"].mean()\n",
    "group_two"
   ],
   "metadata": {
    "execution": {
     "iopub.status.busy": "2023-08-05T18:42:24.393528Z",
     "iopub.execute_input": "2023-08-05T18:42:24.394541Z",
     "iopub.status.idle": "2023-08-05T18:42:24.406240Z",
     "shell.execute_reply.started": "2023-08-05T18:42:24.394506Z",
     "shell.execute_reply": "2023-08-05T18:42:24.405111Z"
    },
    "trusted": true
   },
   "execution_count": 59,
   "outputs": [
    {
     "execution_count": 59,
     "output_type": "execute_result",
     "data": {
      "text/plain": "0.0017264581307471548"
     },
     "metadata": {}
    }
   ]
  },
  {
   "cell_type": "code",
   "source": [
    "group_three = data[data[\"labels\"] == 3][\"num_comments\"].mean()\n",
    "group_three"
   ],
   "metadata": {
    "execution": {
     "iopub.status.busy": "2023-08-05T18:42:24.407758Z",
     "iopub.execute_input": "2023-08-05T18:42:24.409691Z",
     "iopub.status.idle": "2023-08-05T18:42:24.423798Z",
     "shell.execute_reply.started": "2023-08-05T18:42:24.409655Z",
     "shell.execute_reply": "2023-08-05T18:42:24.422296Z"
    },
    "trusted": true
   },
   "execution_count": 60,
   "outputs": [
    {
     "execution_count": 60,
     "output_type": "execute_result",
     "data": {
      "text/plain": "0.00027148226290672723"
     },
     "metadata": {}
    }
   ]
  },
  {
   "cell_type": "code",
   "source": [
    "group_zero = data[data[\"labels\"] == 0][\"num_shares\"].mean()\n",
    "group_zero"
   ],
   "metadata": {
    "execution": {
     "iopub.status.busy": "2023-08-05T18:42:24.425567Z",
     "iopub.execute_input": "2023-08-05T18:42:24.427726Z",
     "iopub.status.idle": "2023-08-05T18:42:24.443316Z",
     "shell.execute_reply.started": "2023-08-05T18:42:24.427686Z",
     "shell.execute_reply": "2023-08-05T18:42:24.441799Z"
    },
    "trusted": true
   },
   "execution_count": 61,
   "outputs": [
    {
     "execution_count": 61,
     "output_type": "execute_result",
     "data": {
      "text/plain": "0.033785031713235436"
     },
     "metadata": {}
    }
   ]
  },
  {
   "cell_type": "code",
   "source": [
    "group_one = data[data[\"labels\"] == 1][\"num_shares\"].mean()\n",
    "group_one"
   ],
   "metadata": {
    "execution": {
     "iopub.status.busy": "2023-08-05T18:42:24.444882Z",
     "iopub.execute_input": "2023-08-05T18:42:24.445808Z",
     "iopub.status.idle": "2023-08-05T18:42:24.457309Z",
     "shell.execute_reply.started": "2023-08-05T18:42:24.445765Z",
     "shell.execute_reply": "2023-08-05T18:42:24.455716Z"
    },
    "trusted": true
   },
   "execution_count": 62,
   "outputs": [
    {
     "execution_count": 62,
     "output_type": "execute_result",
     "data": {
      "text/plain": "0.0007458736181824375"
     },
     "metadata": {}
    }
   ]
  },
  {
   "cell_type": "code",
   "source": [
    "group_two = data[data[\"labels\"] == 2][\"num_shares\"].mean()\n",
    "group_two"
   ],
   "metadata": {
    "execution": {
     "iopub.status.busy": "2023-08-05T18:42:24.459191Z",
     "iopub.execute_input": "2023-08-05T18:42:24.460347Z",
     "iopub.status.idle": "2023-08-05T18:42:24.470522Z",
     "shell.execute_reply.started": "2023-08-05T18:42:24.460307Z",
     "shell.execute_reply": "2023-08-05T18:42:24.469220Z"
    },
    "trusted": true
   },
   "execution_count": 63,
   "outputs": [
    {
     "execution_count": 63,
     "output_type": "execute_result",
     "data": {
      "text/plain": "0.0007473434899500528"
     },
     "metadata": {}
    }
   ]
  },
  {
   "cell_type": "code",
   "source": [
    "group_three = data[data[\"labels\"] == 3][\"num_shares\"].mean()\n",
    "group_three"
   ],
   "metadata": {
    "execution": {
     "iopub.status.busy": "2023-08-05T18:42:24.472150Z",
     "iopub.execute_input": "2023-08-05T18:42:24.473373Z",
     "iopub.status.idle": "2023-08-05T18:42:24.488241Z",
     "shell.execute_reply.started": "2023-08-05T18:42:24.473335Z",
     "shell.execute_reply": "2023-08-05T18:42:24.487144Z"
    },
    "trusted": true
   },
   "execution_count": 64,
   "outputs": [
    {
     "execution_count": 64,
     "output_type": "execute_result",
     "data": {
      "text/plain": "0.001284119566829822"
     },
     "metadata": {}
    }
   ]
  },
  {
   "cell_type": "code",
   "source": [
    "data.head()"
   ],
   "metadata": {
    "execution": {
     "iopub.status.busy": "2023-08-05T18:42:24.489922Z",
     "iopub.execute_input": "2023-08-05T18:42:24.492329Z",
     "iopub.status.idle": "2023-08-05T18:42:24.521056Z",
     "shell.execute_reply.started": "2023-08-05T18:42:24.492291Z",
     "shell.execute_reply": "2023-08-05T18:42:24.519946Z"
    },
    "trusted": true
   },
   "execution_count": 65,
   "outputs": [
    {
     "execution_count": 65,
     "output_type": "execute_result",
     "data": {
      "text/plain": "   num_reactions  num_comments  num_shares  num_likes  num_loves  num_wows  \\\n0       0.112314      0.024393    0.076519   0.091720   0.140030  0.010791   \n1       0.031847      0.000000    0.000000   0.031847   0.000000  0.000000   \n2       0.048195      0.011243    0.016647   0.043312   0.031963  0.003597   \n3       0.023567      0.000000    0.000000   0.023567   0.000000  0.000000   \n4       0.045223      0.000000    0.000000   0.043312   0.013699  0.000000   \n\n   num_hahas  num_sads  num_angrys  status_type_link  status_type_photo  \\\n0   0.006369  0.019608         0.0               0.0                0.0   \n1   0.000000  0.000000         0.0               0.0                1.0   \n2   0.006369  0.000000         0.0               0.0                0.0   \n3   0.000000  0.000000         0.0               0.0                1.0   \n4   0.000000  0.000000         0.0               0.0                1.0   \n\n   status_type_status  status_type_video  labels  \n0                 0.0                1.0       0  \n1                 0.0                0.0       1  \n2                 0.0                1.0       0  \n3                 0.0                0.0       1  \n4                 0.0                0.0       1  ",
      "text/html": "<div>\n<style scoped>\n    .dataframe tbody tr th:only-of-type {\n        vertical-align: middle;\n    }\n\n    .dataframe tbody tr th {\n        vertical-align: top;\n    }\n\n    .dataframe thead th {\n        text-align: right;\n    }\n</style>\n<table border=\"1\" class=\"dataframe\">\n  <thead>\n    <tr style=\"text-align: right;\">\n      <th></th>\n      <th>num_reactions</th>\n      <th>num_comments</th>\n      <th>num_shares</th>\n      <th>num_likes</th>\n      <th>num_loves</th>\n      <th>num_wows</th>\n      <th>num_hahas</th>\n      <th>num_sads</th>\n      <th>num_angrys</th>\n      <th>status_type_link</th>\n      <th>status_type_photo</th>\n      <th>status_type_status</th>\n      <th>status_type_video</th>\n      <th>labels</th>\n    </tr>\n  </thead>\n  <tbody>\n    <tr>\n      <th>0</th>\n      <td>0.112314</td>\n      <td>0.024393</td>\n      <td>0.076519</td>\n      <td>0.091720</td>\n      <td>0.140030</td>\n      <td>0.010791</td>\n      <td>0.006369</td>\n      <td>0.019608</td>\n      <td>0.0</td>\n      <td>0.0</td>\n      <td>0.0</td>\n      <td>0.0</td>\n      <td>1.0</td>\n      <td>0</td>\n    </tr>\n    <tr>\n      <th>1</th>\n      <td>0.031847</td>\n      <td>0.000000</td>\n      <td>0.000000</td>\n      <td>0.031847</td>\n      <td>0.000000</td>\n      <td>0.000000</td>\n      <td>0.000000</td>\n      <td>0.000000</td>\n      <td>0.0</td>\n      <td>0.0</td>\n      <td>1.0</td>\n      <td>0.0</td>\n      <td>0.0</td>\n      <td>1</td>\n    </tr>\n    <tr>\n      <th>2</th>\n      <td>0.048195</td>\n      <td>0.011243</td>\n      <td>0.016647</td>\n      <td>0.043312</td>\n      <td>0.031963</td>\n      <td>0.003597</td>\n      <td>0.006369</td>\n      <td>0.000000</td>\n      <td>0.0</td>\n      <td>0.0</td>\n      <td>0.0</td>\n      <td>0.0</td>\n      <td>1.0</td>\n      <td>0</td>\n    </tr>\n    <tr>\n      <th>3</th>\n      <td>0.023567</td>\n      <td>0.000000</td>\n      <td>0.000000</td>\n      <td>0.023567</td>\n      <td>0.000000</td>\n      <td>0.000000</td>\n      <td>0.000000</td>\n      <td>0.000000</td>\n      <td>0.0</td>\n      <td>0.0</td>\n      <td>1.0</td>\n      <td>0.0</td>\n      <td>0.0</td>\n      <td>1</td>\n    </tr>\n    <tr>\n      <th>4</th>\n      <td>0.045223</td>\n      <td>0.000000</td>\n      <td>0.000000</td>\n      <td>0.043312</td>\n      <td>0.013699</td>\n      <td>0.000000</td>\n      <td>0.000000</td>\n      <td>0.000000</td>\n      <td>0.0</td>\n      <td>0.0</td>\n      <td>1.0</td>\n      <td>0.0</td>\n      <td>0.0</td>\n      <td>1</td>\n    </tr>\n  </tbody>\n</table>\n</div>"
     },
     "metadata": {}
    }
   ]
  },
  {
   "cell_type": "code",
   "source": [
    "status_type = data[[\"status_type_photo\",\"status_type_video\"]].idxmax(axis=1)\n",
    "data = pd.concat([data[\"labels\"], status_type.rename(\"status_type\")], axis=1)"
   ],
   "metadata": {
    "execution": {
     "iopub.status.busy": "2023-08-05T18:42:24.522640Z",
     "iopub.execute_input": "2023-08-05T18:42:24.523542Z",
     "iopub.status.idle": "2023-08-05T18:42:24.544632Z",
     "shell.execute_reply.started": "2023-08-05T18:42:24.523502Z",
     "shell.execute_reply": "2023-08-05T18:42:24.543787Z"
    },
    "trusted": true
   },
   "execution_count": 66,
   "outputs": []
  },
  {
   "cell_type": "code",
   "source": [
    "data.groupby([\"labels\", \"status_type\"])[\"status_type\"].count()"
   ],
   "metadata": {
    "execution": {
     "iopub.status.busy": "2023-08-05T18:42:24.546753Z",
     "iopub.execute_input": "2023-08-05T18:42:24.547325Z",
     "iopub.status.idle": "2023-08-05T18:42:24.560910Z",
     "shell.execute_reply.started": "2023-08-05T18:42:24.547293Z",
     "shell.execute_reply": "2023-08-05T18:42:24.559963Z"
    },
    "trusted": true
   },
   "execution_count": 67,
   "outputs": [
    {
     "execution_count": 67,
     "output_type": "execute_result",
     "data": {
      "text/plain": "labels  status_type      \n0       status_type_video    2334\n1       status_type_photo    4288\n2       status_type_photo     365\n3       status_type_photo      63\nName: status_type, dtype: int64"
     },
     "metadata": {}
    }
   ]
  }
 ]
}
