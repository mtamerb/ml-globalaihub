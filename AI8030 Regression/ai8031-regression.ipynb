{
 "metadata": {
  "kernelspec": {
   "language": "python",
   "display_name": "Python 3",
   "name": "python3"
  },
  "language_info": {
   "name": "python",
   "version": "3.10.12",
   "mimetype": "text/x-python",
   "codemirror_mode": {
    "name": "ipython",
    "version": 3
   },
   "pygments_lexer": "ipython3",
   "nbconvert_exporter": "python",
   "file_extension": ".py"
  }
 },
 "nbformat_minor": 4,
 "nbformat": 4,
 "cells": [
  {
   "cell_type": "code",
   "source": [
    "import pandas as pd\n",
    "import numpy as np\n",
    "\n",
    "from sklearn.linear_model import LinearRegression\n",
    "from sklearn.metrics import mean_squared_error"
   ],
   "metadata": {
    "_uuid": "8f2839f25d086af736a60e9eeb907d3b93b6e0e5",
    "_cell_guid": "b1076dfc-b9ad-4769-8c92-a6c4dae69d19",
    "execution": {
     "iopub.status.busy": "2023-08-03T22:17:20.496349Z",
     "iopub.execute_input": "2023-08-03T22:17:20.496786Z",
     "iopub.status.idle": "2023-08-03T22:17:20.502734Z",
     "shell.execute_reply.started": "2023-08-03T22:17:20.496751Z",
     "shell.execute_reply": "2023-08-03T22:17:20.501368Z"
    },
    "trusted": true
   },
   "execution_count": 38,
   "outputs": []
  },
  {
   "cell_type": "code",
   "source": [
    "train_path = \"/kaggle/input/regression-model-dataset/train (2).csv\"\n",
    "\n",
    "train_data = pd.read_csv(train_path)"
   ],
   "metadata": {
    "execution": {
     "iopub.status.busy": "2023-08-03T22:17:20.514943Z",
     "iopub.execute_input": "2023-08-03T22:17:20.515341Z",
     "iopub.status.idle": "2023-08-03T22:17:20.528250Z",
     "shell.execute_reply.started": "2023-08-03T22:17:20.515294Z",
     "shell.execute_reply": "2023-08-03T22:17:20.526825Z"
    },
    "trusted": true
   },
   "execution_count": 39,
   "outputs": []
  },
  {
   "cell_type": "code",
   "source": [
    "test_path = \"/kaggle/input/regression-model-dataset/test (1).csv\"\n",
    "\n",
    "test_data = pd.read_csv(test_path)"
   ],
   "metadata": {
    "execution": {
     "iopub.status.busy": "2023-08-03T22:17:20.530483Z",
     "iopub.execute_input": "2023-08-03T22:17:20.530868Z",
     "iopub.status.idle": "2023-08-03T22:17:20.541976Z",
     "shell.execute_reply.started": "2023-08-03T22:17:20.530835Z",
     "shell.execute_reply": "2023-08-03T22:17:20.540392Z"
    },
    "trusted": true
   },
   "execution_count": 40,
   "outputs": []
  },
  {
   "cell_type": "code",
   "source": [
    "train_data.dtypes"
   ],
   "metadata": {
    "execution": {
     "iopub.status.busy": "2023-08-03T22:17:20.543951Z",
     "iopub.execute_input": "2023-08-03T22:17:20.544373Z",
     "iopub.status.idle": "2023-08-03T22:17:20.556525Z",
     "shell.execute_reply.started": "2023-08-03T22:17:20.544310Z",
     "shell.execute_reply": "2023-08-03T22:17:20.555478Z"
    },
    "trusted": true
   },
   "execution_count": 41,
   "outputs": [
    {
     "execution_count": 41,
     "output_type": "execute_result",
     "data": {
      "text/plain": "OverallQual         int64\nYearBuilt           int64\nYearRemodAdd        int64\nTotalBsmtSF         int64\n1stFlrSF            int64\nGrLivArea           int64\nFullBath            int64\nTotRmsAbvGrd        int64\nGarageCars          int64\nGarageArea          int64\nSalePrice           int64\nExterQual_TA        int64\nFoundation_PConc    int64\nKitchenQual_TA      int64\ndtype: object"
     },
     "metadata": {}
    }
   ]
  },
  {
   "cell_type": "code",
   "source": [
    "train_data.head()"
   ],
   "metadata": {
    "execution": {
     "iopub.status.busy": "2023-08-03T22:17:20.559157Z",
     "iopub.execute_input": "2023-08-03T22:17:20.560596Z",
     "iopub.status.idle": "2023-08-03T22:17:20.582588Z",
     "shell.execute_reply.started": "2023-08-03T22:17:20.560556Z",
     "shell.execute_reply": "2023-08-03T22:17:20.581271Z"
    },
    "trusted": true
   },
   "execution_count": 42,
   "outputs": [
    {
     "execution_count": 42,
     "output_type": "execute_result",
     "data": {
      "text/plain": "   OverallQual  YearBuilt  YearRemodAdd  TotalBsmtSF  1stFlrSF  GrLivArea  \\\n0            6       1969          1969          663       663       1352   \n1            6       1920          1950         1012      1012       1012   \n2            5       1910          2006         1022      1022       1022   \n3            5       1973          1973         1656      1656       1656   \n4            6       1978          1978          918       918       1683   \n\n   FullBath  TotRmsAbvGrd  GarageCars  GarageArea  SalePrice  ExterQual_TA  \\\n0         1             7           1         299     158000             1   \n1         1             6           1         308     118400             1   \n2         1             4           1         280      85000             1   \n3         2             8           2         506     135000             1   \n4         2             7           2         440     172500             1   \n\n   Foundation_PConc  KitchenQual_TA  \n0                 0               1  \n1                 0               1  \n2                 0               1  \n3                 0               1  \n4                 0               1  ",
      "text/html": "<div>\n<style scoped>\n    .dataframe tbody tr th:only-of-type {\n        vertical-align: middle;\n    }\n\n    .dataframe tbody tr th {\n        vertical-align: top;\n    }\n\n    .dataframe thead th {\n        text-align: right;\n    }\n</style>\n<table border=\"1\" class=\"dataframe\">\n  <thead>\n    <tr style=\"text-align: right;\">\n      <th></th>\n      <th>OverallQual</th>\n      <th>YearBuilt</th>\n      <th>YearRemodAdd</th>\n      <th>TotalBsmtSF</th>\n      <th>1stFlrSF</th>\n      <th>GrLivArea</th>\n      <th>FullBath</th>\n      <th>TotRmsAbvGrd</th>\n      <th>GarageCars</th>\n      <th>GarageArea</th>\n      <th>SalePrice</th>\n      <th>ExterQual_TA</th>\n      <th>Foundation_PConc</th>\n      <th>KitchenQual_TA</th>\n    </tr>\n  </thead>\n  <tbody>\n    <tr>\n      <th>0</th>\n      <td>6</td>\n      <td>1969</td>\n      <td>1969</td>\n      <td>663</td>\n      <td>663</td>\n      <td>1352</td>\n      <td>1</td>\n      <td>7</td>\n      <td>1</td>\n      <td>299</td>\n      <td>158000</td>\n      <td>1</td>\n      <td>0</td>\n      <td>1</td>\n    </tr>\n    <tr>\n      <th>1</th>\n      <td>6</td>\n      <td>1920</td>\n      <td>1950</td>\n      <td>1012</td>\n      <td>1012</td>\n      <td>1012</td>\n      <td>1</td>\n      <td>6</td>\n      <td>1</td>\n      <td>308</td>\n      <td>118400</td>\n      <td>1</td>\n      <td>0</td>\n      <td>1</td>\n    </tr>\n    <tr>\n      <th>2</th>\n      <td>5</td>\n      <td>1910</td>\n      <td>2006</td>\n      <td>1022</td>\n      <td>1022</td>\n      <td>1022</td>\n      <td>1</td>\n      <td>4</td>\n      <td>1</td>\n      <td>280</td>\n      <td>85000</td>\n      <td>1</td>\n      <td>0</td>\n      <td>1</td>\n    </tr>\n    <tr>\n      <th>3</th>\n      <td>5</td>\n      <td>1973</td>\n      <td>1973</td>\n      <td>1656</td>\n      <td>1656</td>\n      <td>1656</td>\n      <td>2</td>\n      <td>8</td>\n      <td>2</td>\n      <td>506</td>\n      <td>135000</td>\n      <td>1</td>\n      <td>0</td>\n      <td>1</td>\n    </tr>\n    <tr>\n      <th>4</th>\n      <td>6</td>\n      <td>1978</td>\n      <td>1978</td>\n      <td>918</td>\n      <td>918</td>\n      <td>1683</td>\n      <td>2</td>\n      <td>7</td>\n      <td>2</td>\n      <td>440</td>\n      <td>172500</td>\n      <td>1</td>\n      <td>0</td>\n      <td>1</td>\n    </tr>\n  </tbody>\n</table>\n</div>"
     },
     "metadata": {}
    }
   ]
  },
  {
   "cell_type": "code",
   "source": [
    "train_X = train_data.drop(\"SalePrice\", axis=1)\n",
    "train_y = train_data.SalePrice  # train.loc[:, \"SalePrice\"]"
   ],
   "metadata": {
    "execution": {
     "iopub.status.busy": "2023-08-03T22:17:20.584045Z",
     "iopub.execute_input": "2023-08-03T22:17:20.585423Z",
     "iopub.status.idle": "2023-08-03T22:17:20.599097Z",
     "shell.execute_reply.started": "2023-08-03T22:17:20.585374Z",
     "shell.execute_reply": "2023-08-03T22:17:20.597845Z"
    },
    "trusted": true
   },
   "execution_count": 43,
   "outputs": []
  },
  {
   "cell_type": "code",
   "source": [
    "model = LinearRegression()\n",
    "model.fit(train_X, train_y)"
   ],
   "metadata": {
    "execution": {
     "iopub.status.busy": "2023-08-03T22:17:20.600749Z",
     "iopub.execute_input": "2023-08-03T22:17:20.601129Z",
     "iopub.status.idle": "2023-08-03T22:17:20.627484Z",
     "shell.execute_reply.started": "2023-08-03T22:17:20.601097Z",
     "shell.execute_reply": "2023-08-03T22:17:20.625836Z"
    },
    "trusted": true
   },
   "execution_count": 44,
   "outputs": [
    {
     "execution_count": 44,
     "output_type": "execute_result",
     "data": {
      "text/plain": "LinearRegression()",
      "text/html": "<style>#sk-container-id-2 {color: black;background-color: white;}#sk-container-id-2 pre{padding: 0;}#sk-container-id-2 div.sk-toggleable {background-color: white;}#sk-container-id-2 label.sk-toggleable__label {cursor: pointer;display: block;width: 100%;margin-bottom: 0;padding: 0.3em;box-sizing: border-box;text-align: center;}#sk-container-id-2 label.sk-toggleable__label-arrow:before {content: \"▸\";float: left;margin-right: 0.25em;color: #696969;}#sk-container-id-2 label.sk-toggleable__label-arrow:hover:before {color: black;}#sk-container-id-2 div.sk-estimator:hover label.sk-toggleable__label-arrow:before {color: black;}#sk-container-id-2 div.sk-toggleable__content {max-height: 0;max-width: 0;overflow: hidden;text-align: left;background-color: #f0f8ff;}#sk-container-id-2 div.sk-toggleable__content pre {margin: 0.2em;color: black;border-radius: 0.25em;background-color: #f0f8ff;}#sk-container-id-2 input.sk-toggleable__control:checked~div.sk-toggleable__content {max-height: 200px;max-width: 100%;overflow: auto;}#sk-container-id-2 input.sk-toggleable__control:checked~label.sk-toggleable__label-arrow:before {content: \"▾\";}#sk-container-id-2 div.sk-estimator input.sk-toggleable__control:checked~label.sk-toggleable__label {background-color: #d4ebff;}#sk-container-id-2 div.sk-label input.sk-toggleable__control:checked~label.sk-toggleable__label {background-color: #d4ebff;}#sk-container-id-2 input.sk-hidden--visually {border: 0;clip: rect(1px 1px 1px 1px);clip: rect(1px, 1px, 1px, 1px);height: 1px;margin: -1px;overflow: hidden;padding: 0;position: absolute;width: 1px;}#sk-container-id-2 div.sk-estimator {font-family: monospace;background-color: #f0f8ff;border: 1px dotted black;border-radius: 0.25em;box-sizing: border-box;margin-bottom: 0.5em;}#sk-container-id-2 div.sk-estimator:hover {background-color: #d4ebff;}#sk-container-id-2 div.sk-parallel-item::after {content: \"\";width: 100%;border-bottom: 1px solid gray;flex-grow: 1;}#sk-container-id-2 div.sk-label:hover label.sk-toggleable__label {background-color: #d4ebff;}#sk-container-id-2 div.sk-serial::before {content: \"\";position: absolute;border-left: 1px solid gray;box-sizing: border-box;top: 0;bottom: 0;left: 50%;z-index: 0;}#sk-container-id-2 div.sk-serial {display: flex;flex-direction: column;align-items: center;background-color: white;padding-right: 0.2em;padding-left: 0.2em;position: relative;}#sk-container-id-2 div.sk-item {position: relative;z-index: 1;}#sk-container-id-2 div.sk-parallel {display: flex;align-items: stretch;justify-content: center;background-color: white;position: relative;}#sk-container-id-2 div.sk-item::before, #sk-container-id-2 div.sk-parallel-item::before {content: \"\";position: absolute;border-left: 1px solid gray;box-sizing: border-box;top: 0;bottom: 0;left: 50%;z-index: -1;}#sk-container-id-2 div.sk-parallel-item {display: flex;flex-direction: column;z-index: 1;position: relative;background-color: white;}#sk-container-id-2 div.sk-parallel-item:first-child::after {align-self: flex-end;width: 50%;}#sk-container-id-2 div.sk-parallel-item:last-child::after {align-self: flex-start;width: 50%;}#sk-container-id-2 div.sk-parallel-item:only-child::after {width: 0;}#sk-container-id-2 div.sk-dashed-wrapped {border: 1px dashed gray;margin: 0 0.4em 0.5em 0.4em;box-sizing: border-box;padding-bottom: 0.4em;background-color: white;}#sk-container-id-2 div.sk-label label {font-family: monospace;font-weight: bold;display: inline-block;line-height: 1.2em;}#sk-container-id-2 div.sk-label-container {text-align: center;}#sk-container-id-2 div.sk-container {/* jupyter's `normalize.less` sets `[hidden] { display: none; }` but bootstrap.min.css set `[hidden] { display: none !important; }` so we also need the `!important` here to be able to override the default hidden behavior on the sphinx rendered scikit-learn.org. See: https://github.com/scikit-learn/scikit-learn/issues/21755 */display: inline-block !important;position: relative;}#sk-container-id-2 div.sk-text-repr-fallback {display: none;}</style><div id=\"sk-container-id-2\" class=\"sk-top-container\"><div class=\"sk-text-repr-fallback\"><pre>LinearRegression()</pre><b>In a Jupyter environment, please rerun this cell to show the HTML representation or trust the notebook. <br />On GitHub, the HTML representation is unable to render, please try loading this page with nbviewer.org.</b></div><div class=\"sk-container\" hidden><div class=\"sk-item\"><div class=\"sk-estimator sk-toggleable\"><input class=\"sk-toggleable__control sk-hidden--visually\" id=\"sk-estimator-id-2\" type=\"checkbox\" checked><label for=\"sk-estimator-id-2\" class=\"sk-toggleable__label sk-toggleable__label-arrow\">LinearRegression</label><div class=\"sk-toggleable__content\"><pre>LinearRegression()</pre></div></div></div></div></div>"
     },
     "metadata": {}
    }
   ]
  },
  {
   "cell_type": "code",
   "source": [
    "test_X = test_data.drop(\"SalePrice\", axis=1)\n",
    "test_y = test_data.SalePrice"
   ],
   "metadata": {
    "execution": {
     "iopub.status.busy": "2023-08-03T22:17:20.629716Z",
     "iopub.execute_input": "2023-08-03T22:17:20.630674Z",
     "iopub.status.idle": "2023-08-03T22:17:20.640821Z",
     "shell.execute_reply.started": "2023-08-03T22:17:20.630613Z",
     "shell.execute_reply": "2023-08-03T22:17:20.638953Z"
    },
    "trusted": true
   },
   "execution_count": 45,
   "outputs": []
  },
  {
   "cell_type": "code",
   "source": [
    "predictions = model.predict(test_X)"
   ],
   "metadata": {
    "execution": {
     "iopub.status.busy": "2023-08-03T22:17:20.643454Z",
     "iopub.execute_input": "2023-08-03T22:17:20.644597Z",
     "iopub.status.idle": "2023-08-03T22:17:20.658040Z",
     "shell.execute_reply.started": "2023-08-03T22:17:20.644509Z",
     "shell.execute_reply": "2023-08-03T22:17:20.656138Z"
    },
    "trusted": true
   },
   "execution_count": 46,
   "outputs": []
  },
  {
   "cell_type": "code",
   "source": [
    "comparison = pd.DataFrame({\"Actual Values\": test_y, \"Predictions\": predictions})"
   ],
   "metadata": {
    "execution": {
     "iopub.status.busy": "2023-08-03T22:17:20.660147Z",
     "iopub.execute_input": "2023-08-03T22:17:20.661710Z",
     "iopub.status.idle": "2023-08-03T22:17:20.674922Z",
     "shell.execute_reply.started": "2023-08-03T22:17:20.661646Z",
     "shell.execute_reply": "2023-08-03T22:17:20.673304Z"
    },
    "trusted": true
   },
   "execution_count": 47,
   "outputs": []
  },
  {
   "cell_type": "code",
   "source": [
    "comparison.head()"
   ],
   "metadata": {
    "execution": {
     "iopub.status.busy": "2023-08-03T22:17:20.680691Z",
     "iopub.execute_input": "2023-08-03T22:17:20.681851Z",
     "iopub.status.idle": "2023-08-03T22:17:20.701634Z",
     "shell.execute_reply.started": "2023-08-03T22:17:20.681781Z",
     "shell.execute_reply": "2023-08-03T22:17:20.699958Z"
    },
    "trusted": true
   },
   "execution_count": 48,
   "outputs": [
    {
     "execution_count": 48,
     "output_type": "execute_result",
     "data": {
      "text/plain": "   Actual Values    Predictions\n0         118500   83380.944694\n1         154900  105974.149765\n2         133000  139238.138343\n3         115000  104982.049557\n4         154500  140473.360146",
      "text/html": "<div>\n<style scoped>\n    .dataframe tbody tr th:only-of-type {\n        vertical-align: middle;\n    }\n\n    .dataframe tbody tr th {\n        vertical-align: top;\n    }\n\n    .dataframe thead th {\n        text-align: right;\n    }\n</style>\n<table border=\"1\" class=\"dataframe\">\n  <thead>\n    <tr style=\"text-align: right;\">\n      <th></th>\n      <th>Actual Values</th>\n      <th>Predictions</th>\n    </tr>\n  </thead>\n  <tbody>\n    <tr>\n      <th>0</th>\n      <td>118500</td>\n      <td>83380.944694</td>\n    </tr>\n    <tr>\n      <th>1</th>\n      <td>154900</td>\n      <td>105974.149765</td>\n    </tr>\n    <tr>\n      <th>2</th>\n      <td>133000</td>\n      <td>139238.138343</td>\n    </tr>\n    <tr>\n      <th>3</th>\n      <td>115000</td>\n      <td>104982.049557</td>\n    </tr>\n    <tr>\n      <th>4</th>\n      <td>154500</td>\n      <td>140473.360146</td>\n    </tr>\n  </tbody>\n</table>\n</div>"
     },
     "metadata": {}
    }
   ]
  },
  {
   "cell_type": "code",
   "source": [
    "comparison.tail()"
   ],
   "metadata": {
    "execution": {
     "iopub.status.busy": "2023-08-03T22:17:20.705740Z",
     "iopub.execute_input": "2023-08-03T22:17:20.706963Z",
     "iopub.status.idle": "2023-08-03T22:17:20.723831Z",
     "shell.execute_reply.started": "2023-08-03T22:17:20.706899Z",
     "shell.execute_reply": "2023-08-03T22:17:20.722086Z"
    },
    "trusted": true
   },
   "execution_count": 49,
   "outputs": [
    {
     "execution_count": 49,
     "output_type": "execute_result",
     "data": {
      "text/plain": "     Actual Values    Predictions\n324         132250  102816.796295\n325         123000  121698.649065\n326         316600  271745.844407\n327         142000  131258.275591\n328         250000  263005.372419",
      "text/html": "<div>\n<style scoped>\n    .dataframe tbody tr th:only-of-type {\n        vertical-align: middle;\n    }\n\n    .dataframe tbody tr th {\n        vertical-align: top;\n    }\n\n    .dataframe thead th {\n        text-align: right;\n    }\n</style>\n<table border=\"1\" class=\"dataframe\">\n  <thead>\n    <tr style=\"text-align: right;\">\n      <th></th>\n      <th>Actual Values</th>\n      <th>Predictions</th>\n    </tr>\n  </thead>\n  <tbody>\n    <tr>\n      <th>324</th>\n      <td>132250</td>\n      <td>102816.796295</td>\n    </tr>\n    <tr>\n      <th>325</th>\n      <td>123000</td>\n      <td>121698.649065</td>\n    </tr>\n    <tr>\n      <th>326</th>\n      <td>316600</td>\n      <td>271745.844407</td>\n    </tr>\n    <tr>\n      <th>327</th>\n      <td>142000</td>\n      <td>131258.275591</td>\n    </tr>\n    <tr>\n      <th>328</th>\n      <td>250000</td>\n      <td>263005.372419</td>\n    </tr>\n  </tbody>\n</table>\n</div>"
     },
     "metadata": {}
    }
   ]
  },
  {
   "cell_type": "code",
   "source": [
    "rmse = np.sqrt(mean_squared_error(test_y, predictions))"
   ],
   "metadata": {
    "execution": {
     "iopub.status.busy": "2023-08-03T22:21:15.115181Z",
     "iopub.execute_input": "2023-08-03T22:21:15.115620Z",
     "iopub.status.idle": "2023-08-03T22:21:15.122116Z",
     "shell.execute_reply.started": "2023-08-03T22:21:15.115585Z",
     "shell.execute_reply": "2023-08-03T22:21:15.120832Z"
    },
    "trusted": true
   },
   "execution_count": 57,
   "outputs": []
  },
  {
   "cell_type": "code",
   "source": [
    "print(\"Root Mean Squared Error : \", rmse)"
   ],
   "metadata": {
    "execution": {
     "iopub.status.busy": "2023-08-03T22:21:45.225060Z",
     "iopub.execute_input": "2023-08-03T22:21:45.225520Z",
     "iopub.status.idle": "2023-08-03T22:21:45.231574Z",
     "shell.execute_reply.started": "2023-08-03T22:21:45.225483Z",
     "shell.execute_reply": "2023-08-03T22:21:45.230304Z"
    },
    "trusted": true
   },
   "execution_count": 59,
   "outputs": [
    {
     "name": "stdout",
     "text": "Root Mean Squared Error :  33186.38417236769\n",
     "output_type": "stream"
    }
   ]
  },
  {
   "cell_type": "code",
   "source": [
    "correlations = train_data.corr()\n",
    "correlations"
   ],
   "metadata": {
    "execution": {
     "iopub.status.busy": "2023-08-03T22:23:37.339640Z",
     "iopub.execute_input": "2023-08-03T22:23:37.340028Z",
     "iopub.status.idle": "2023-08-03T22:23:37.369035Z",
     "shell.execute_reply.started": "2023-08-03T22:23:37.339998Z",
     "shell.execute_reply": "2023-08-03T22:23:37.367931Z"
    },
    "trusted": true
   },
   "execution_count": 65,
   "outputs": [
    {
     "execution_count": 65,
     "output_type": "execute_result",
     "data": {
      "text/plain": "                  OverallQual  YearBuilt  YearRemodAdd  TotalBsmtSF  1stFlrSF  \\\nOverallQual          1.000000   0.572367      0.550407     0.557685  0.539527   \nYearBuilt            0.572367   1.000000      0.615451     0.418706  0.315715   \nYearRemodAdd         0.550407   0.615451      1.000000     0.305751  0.299912   \nTotalBsmtSF          0.557685   0.418706      0.305751     1.000000  0.912271   \n1stFlrSF             0.539527   0.315715      0.299912     0.912271  1.000000   \nGrLivArea            0.628890   0.205311      0.300983     0.517430  0.589766   \nFullBath             0.598265   0.496001      0.500358     0.370448  0.392271   \nTotRmsAbvGrd         0.482744   0.122193      0.189233     0.337671  0.416777   \nGarageCars           0.627897   0.530869      0.507051     0.476327  0.472616   \nGarageArea           0.579378   0.466243      0.459938     0.539858  0.531808   \nSalePrice            0.792263   0.503317      0.504414     0.612205  0.621057   \nExterQual_TA        -0.692146  -0.608600     -0.586210    -0.414837 -0.355415   \nFoundation_PConc     0.593079   0.675289      0.608433     0.330111  0.262008   \nKitchenQual_TA      -0.579892  -0.478635     -0.621112    -0.353424 -0.315156   \n\n                  GrLivArea  FullBath  TotRmsAbvGrd  GarageCars  GarageArea  \\\nOverallQual        0.628890  0.598265      0.482744    0.627897    0.579378   \nYearBuilt          0.205311  0.496001      0.122193    0.530869    0.466243   \nYearRemodAdd       0.300983  0.500358      0.189233    0.507051    0.459938   \nTotalBsmtSF        0.517430  0.370448      0.337671    0.476327    0.539858   \n1stFlrSF           0.589766  0.392271      0.416777    0.472616    0.531808   \nGrLivArea          1.000000  0.624707      0.826999    0.492914    0.499800   \nFullBath           0.624707  1.000000      0.550967    0.528268    0.465081   \nTotRmsAbvGrd       0.826999  0.550967      1.000000    0.426842    0.389448   \nGarageCars         0.492914  0.528268      0.426842    1.000000    0.845512   \nGarageArea         0.499800  0.465081      0.389448    0.845512    1.000000   \nSalePrice          0.712054  0.597505      0.573845    0.658355    0.621354   \nExterQual_TA      -0.427637 -0.516471     -0.307535   -0.543945   -0.511492   \nFoundation_PConc   0.340340  0.519781      0.255900    0.517289    0.451725   \nKitchenQual_TA    -0.384288 -0.474227     -0.251362   -0.465095   -0.455758   \n\n                  SalePrice  ExterQual_TA  Foundation_PConc  KitchenQual_TA  \nOverallQual        0.792263     -0.692146          0.593079       -0.579892  \nYearBuilt          0.503317     -0.608600          0.675289       -0.478635  \nYearRemodAdd       0.504414     -0.586210          0.608433       -0.621112  \nTotalBsmtSF        0.612205     -0.414837          0.330111       -0.353424  \n1stFlrSF           0.621057     -0.355415          0.262008       -0.315156  \nGrLivArea          0.712054     -0.427637          0.340340       -0.384288  \nFullBath           0.597505     -0.516471          0.519781       -0.474227  \nTotRmsAbvGrd       0.573845     -0.307535          0.255900       -0.251362  \nGarageCars         0.658355     -0.543945          0.517289       -0.465095  \nGarageArea         0.621354     -0.511492          0.451725       -0.455758  \nSalePrice          1.000000     -0.598202          0.517222       -0.527176  \nExterQual_TA      -0.598202      1.000000         -0.673381        0.683627  \nFoundation_PConc   0.517222     -0.673381          1.000000       -0.600103  \nKitchenQual_TA    -0.527176      0.683627         -0.600103        1.000000  ",
      "text/html": "<div>\n<style scoped>\n    .dataframe tbody tr th:only-of-type {\n        vertical-align: middle;\n    }\n\n    .dataframe tbody tr th {\n        vertical-align: top;\n    }\n\n    .dataframe thead th {\n        text-align: right;\n    }\n</style>\n<table border=\"1\" class=\"dataframe\">\n  <thead>\n    <tr style=\"text-align: right;\">\n      <th></th>\n      <th>OverallQual</th>\n      <th>YearBuilt</th>\n      <th>YearRemodAdd</th>\n      <th>TotalBsmtSF</th>\n      <th>1stFlrSF</th>\n      <th>GrLivArea</th>\n      <th>FullBath</th>\n      <th>TotRmsAbvGrd</th>\n      <th>GarageCars</th>\n      <th>GarageArea</th>\n      <th>SalePrice</th>\n      <th>ExterQual_TA</th>\n      <th>Foundation_PConc</th>\n      <th>KitchenQual_TA</th>\n    </tr>\n  </thead>\n  <tbody>\n    <tr>\n      <th>OverallQual</th>\n      <td>1.000000</td>\n      <td>0.572367</td>\n      <td>0.550407</td>\n      <td>0.557685</td>\n      <td>0.539527</td>\n      <td>0.628890</td>\n      <td>0.598265</td>\n      <td>0.482744</td>\n      <td>0.627897</td>\n      <td>0.579378</td>\n      <td>0.792263</td>\n      <td>-0.692146</td>\n      <td>0.593079</td>\n      <td>-0.579892</td>\n    </tr>\n    <tr>\n      <th>YearBuilt</th>\n      <td>0.572367</td>\n      <td>1.000000</td>\n      <td>0.615451</td>\n      <td>0.418706</td>\n      <td>0.315715</td>\n      <td>0.205311</td>\n      <td>0.496001</td>\n      <td>0.122193</td>\n      <td>0.530869</td>\n      <td>0.466243</td>\n      <td>0.503317</td>\n      <td>-0.608600</td>\n      <td>0.675289</td>\n      <td>-0.478635</td>\n    </tr>\n    <tr>\n      <th>YearRemodAdd</th>\n      <td>0.550407</td>\n      <td>0.615451</td>\n      <td>1.000000</td>\n      <td>0.305751</td>\n      <td>0.299912</td>\n      <td>0.300983</td>\n      <td>0.500358</td>\n      <td>0.189233</td>\n      <td>0.507051</td>\n      <td>0.459938</td>\n      <td>0.504414</td>\n      <td>-0.586210</td>\n      <td>0.608433</td>\n      <td>-0.621112</td>\n    </tr>\n    <tr>\n      <th>TotalBsmtSF</th>\n      <td>0.557685</td>\n      <td>0.418706</td>\n      <td>0.305751</td>\n      <td>1.000000</td>\n      <td>0.912271</td>\n      <td>0.517430</td>\n      <td>0.370448</td>\n      <td>0.337671</td>\n      <td>0.476327</td>\n      <td>0.539858</td>\n      <td>0.612205</td>\n      <td>-0.414837</td>\n      <td>0.330111</td>\n      <td>-0.353424</td>\n    </tr>\n    <tr>\n      <th>1stFlrSF</th>\n      <td>0.539527</td>\n      <td>0.315715</td>\n      <td>0.299912</td>\n      <td>0.912271</td>\n      <td>1.000000</td>\n      <td>0.589766</td>\n      <td>0.392271</td>\n      <td>0.416777</td>\n      <td>0.472616</td>\n      <td>0.531808</td>\n      <td>0.621057</td>\n      <td>-0.355415</td>\n      <td>0.262008</td>\n      <td>-0.315156</td>\n    </tr>\n    <tr>\n      <th>GrLivArea</th>\n      <td>0.628890</td>\n      <td>0.205311</td>\n      <td>0.300983</td>\n      <td>0.517430</td>\n      <td>0.589766</td>\n      <td>1.000000</td>\n      <td>0.624707</td>\n      <td>0.826999</td>\n      <td>0.492914</td>\n      <td>0.499800</td>\n      <td>0.712054</td>\n      <td>-0.427637</td>\n      <td>0.340340</td>\n      <td>-0.384288</td>\n    </tr>\n    <tr>\n      <th>FullBath</th>\n      <td>0.598265</td>\n      <td>0.496001</td>\n      <td>0.500358</td>\n      <td>0.370448</td>\n      <td>0.392271</td>\n      <td>0.624707</td>\n      <td>1.000000</td>\n      <td>0.550967</td>\n      <td>0.528268</td>\n      <td>0.465081</td>\n      <td>0.597505</td>\n      <td>-0.516471</td>\n      <td>0.519781</td>\n      <td>-0.474227</td>\n    </tr>\n    <tr>\n      <th>TotRmsAbvGrd</th>\n      <td>0.482744</td>\n      <td>0.122193</td>\n      <td>0.189233</td>\n      <td>0.337671</td>\n      <td>0.416777</td>\n      <td>0.826999</td>\n      <td>0.550967</td>\n      <td>1.000000</td>\n      <td>0.426842</td>\n      <td>0.389448</td>\n      <td>0.573845</td>\n      <td>-0.307535</td>\n      <td>0.255900</td>\n      <td>-0.251362</td>\n    </tr>\n    <tr>\n      <th>GarageCars</th>\n      <td>0.627897</td>\n      <td>0.530869</td>\n      <td>0.507051</td>\n      <td>0.476327</td>\n      <td>0.472616</td>\n      <td>0.492914</td>\n      <td>0.528268</td>\n      <td>0.426842</td>\n      <td>1.000000</td>\n      <td>0.845512</td>\n      <td>0.658355</td>\n      <td>-0.543945</td>\n      <td>0.517289</td>\n      <td>-0.465095</td>\n    </tr>\n    <tr>\n      <th>GarageArea</th>\n      <td>0.579378</td>\n      <td>0.466243</td>\n      <td>0.459938</td>\n      <td>0.539858</td>\n      <td>0.531808</td>\n      <td>0.499800</td>\n      <td>0.465081</td>\n      <td>0.389448</td>\n      <td>0.845512</td>\n      <td>1.000000</td>\n      <td>0.621354</td>\n      <td>-0.511492</td>\n      <td>0.451725</td>\n      <td>-0.455758</td>\n    </tr>\n    <tr>\n      <th>SalePrice</th>\n      <td>0.792263</td>\n      <td>0.503317</td>\n      <td>0.504414</td>\n      <td>0.612205</td>\n      <td>0.621057</td>\n      <td>0.712054</td>\n      <td>0.597505</td>\n      <td>0.573845</td>\n      <td>0.658355</td>\n      <td>0.621354</td>\n      <td>1.000000</td>\n      <td>-0.598202</td>\n      <td>0.517222</td>\n      <td>-0.527176</td>\n    </tr>\n    <tr>\n      <th>ExterQual_TA</th>\n      <td>-0.692146</td>\n      <td>-0.608600</td>\n      <td>-0.586210</td>\n      <td>-0.414837</td>\n      <td>-0.355415</td>\n      <td>-0.427637</td>\n      <td>-0.516471</td>\n      <td>-0.307535</td>\n      <td>-0.543945</td>\n      <td>-0.511492</td>\n      <td>-0.598202</td>\n      <td>1.000000</td>\n      <td>-0.673381</td>\n      <td>0.683627</td>\n    </tr>\n    <tr>\n      <th>Foundation_PConc</th>\n      <td>0.593079</td>\n      <td>0.675289</td>\n      <td>0.608433</td>\n      <td>0.330111</td>\n      <td>0.262008</td>\n      <td>0.340340</td>\n      <td>0.519781</td>\n      <td>0.255900</td>\n      <td>0.517289</td>\n      <td>0.451725</td>\n      <td>0.517222</td>\n      <td>-0.673381</td>\n      <td>1.000000</td>\n      <td>-0.600103</td>\n    </tr>\n    <tr>\n      <th>KitchenQual_TA</th>\n      <td>-0.579892</td>\n      <td>-0.478635</td>\n      <td>-0.621112</td>\n      <td>-0.353424</td>\n      <td>-0.315156</td>\n      <td>-0.384288</td>\n      <td>-0.474227</td>\n      <td>-0.251362</td>\n      <td>-0.465095</td>\n      <td>-0.455758</td>\n      <td>-0.527176</td>\n      <td>0.683627</td>\n      <td>-0.600103</td>\n      <td>1.000000</td>\n    </tr>\n  </tbody>\n</table>\n</div>"
     },
     "metadata": {}
    }
   ]
  },
  {
   "cell_type": "code",
   "source": [
    "sales_price_corr = correlations[\"SalePrice\"]"
   ],
   "metadata": {
    "execution": {
     "iopub.status.busy": "2023-08-03T22:49:05.866151Z",
     "iopub.execute_input": "2023-08-03T22:49:05.866592Z",
     "iopub.status.idle": "2023-08-03T22:49:05.872978Z",
     "shell.execute_reply.started": "2023-08-03T22:49:05.866556Z",
     "shell.execute_reply": "2023-08-03T22:49:05.871408Z"
    },
    "trusted": true
   },
   "execution_count": 68,
   "outputs": []
  },
  {
   "cell_type": "code",
   "source": [
    "sales_price_corr"
   ],
   "metadata": {
    "execution": {
     "iopub.status.busy": "2023-08-03T22:49:09.069577Z",
     "iopub.execute_input": "2023-08-03T22:49:09.070026Z",
     "iopub.status.idle": "2023-08-03T22:49:09.080728Z",
     "shell.execute_reply.started": "2023-08-03T22:49:09.069990Z",
     "shell.execute_reply": "2023-08-03T22:49:09.079384Z"
    },
    "trusted": true
   },
   "execution_count": 69,
   "outputs": [
    {
     "execution_count": 69,
     "output_type": "execute_result",
     "data": {
      "text/plain": "OverallQual         0.792263\nYearBuilt           0.503317\nYearRemodAdd        0.504414\nTotalBsmtSF         0.612205\n1stFlrSF            0.621057\nGrLivArea           0.712054\nFullBath            0.597505\nTotRmsAbvGrd        0.573845\nGarageCars          0.658355\nGarageArea          0.621354\nSalePrice           1.000000\nExterQual_TA       -0.598202\nFoundation_PConc    0.517222\nKitchenQual_TA     -0.527176\nName: SalePrice, dtype: float64"
     },
     "metadata": {}
    }
   ]
  },
  {
   "cell_type": "code",
   "source": [
    "sales_price_corr.sort_values(ascending=False).head(10)"
   ],
   "metadata": {
    "execution": {
     "iopub.status.busy": "2023-08-03T22:48:52.192905Z",
     "iopub.execute_input": "2023-08-03T22:48:52.193659Z",
     "iopub.status.idle": "2023-08-03T22:48:52.219271Z",
     "shell.execute_reply.started": "2023-08-03T22:48:52.193556Z",
     "shell.execute_reply": "2023-08-03T22:48:52.218170Z"
    },
    "trusted": true
   },
   "execution_count": 67,
   "outputs": [
    {
     "execution_count": 67,
     "output_type": "execute_result",
     "data": {
      "text/plain": "SalePrice           1.000000\nOverallQual         0.792263\nGrLivArea           0.712054\nGarageCars          0.658355\nGarageArea          0.621354\n1stFlrSF            0.621057\nTotalBsmtSF         0.612205\nFullBath            0.597505\nTotRmsAbvGrd        0.573845\nFoundation_PConc    0.517222\nName: SalePrice, dtype: float64"
     },
     "metadata": {}
    }
   ]
  }
 ]
}
